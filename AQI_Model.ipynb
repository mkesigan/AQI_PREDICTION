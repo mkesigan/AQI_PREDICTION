{
  "cells": [
    {
      "cell_type": "code",
      "execution_count": 33,
      "metadata": {
        "id": "6CWFBSWRYttN"
      },
      "outputs": [
        {
          "name": "stdout",
          "output_type": "stream",
          "text": [
            "Requirement already satisfied: matplotlib in c:\\users\\msi\\appdata\\local\\programs\\python\\python310\\lib\\site-packages (3.10.6)\n",
            "Requirement already satisfied: seaborn in c:\\users\\msi\\appdata\\local\\programs\\python\\python310\\lib\\site-packages (0.13.2)\n",
            "Requirement already satisfied: contourpy>=1.0.1 in c:\\users\\msi\\appdata\\local\\programs\\python\\python310\\lib\\site-packages (from matplotlib) (1.3.2)\n",
            "Requirement already satisfied: cycler>=0.10 in c:\\users\\msi\\appdata\\local\\programs\\python\\python310\\lib\\site-packages (from matplotlib) (0.12.1)\n",
            "Requirement already satisfied: fonttools>=4.22.0 in c:\\users\\msi\\appdata\\local\\programs\\python\\python310\\lib\\site-packages (from matplotlib) (4.60.1)\n",
            "Requirement already satisfied: kiwisolver>=1.3.1 in c:\\users\\msi\\appdata\\local\\programs\\python\\python310\\lib\\site-packages (from matplotlib) (1.4.9)\n",
            "Requirement already satisfied: numpy>=1.23 in c:\\users\\msi\\appdata\\local\\programs\\python\\python310\\lib\\site-packages (from matplotlib) (1.26.4)\n",
            "Requirement already satisfied: packaging>=20.0 in c:\\users\\msi\\appdata\\local\\programs\\python\\python310\\lib\\site-packages (from matplotlib) (23.2)\n",
            "Requirement already satisfied: pillow>=8 in c:\\users\\msi\\appdata\\local\\programs\\python\\python310\\lib\\site-packages (from matplotlib) (10.4.0)\n",
            "Requirement already satisfied: pyparsing>=2.3.1 in c:\\users\\msi\\appdata\\local\\programs\\python\\python310\\lib\\site-packages (from matplotlib) (3.2.5)\n",
            "Requirement already satisfied: python-dateutil>=2.7 in c:\\users\\msi\\appdata\\local\\programs\\python\\python310\\lib\\site-packages (from matplotlib) (2.8.2)\n",
            "Requirement already satisfied: pandas>=1.2 in c:\\users\\msi\\appdata\\local\\programs\\python\\python310\\lib\\site-packages (from seaborn) (2.0.3)\n",
            "Requirement already satisfied: pytz>=2020.1 in c:\\users\\msi\\appdata\\local\\programs\\python\\python310\\lib\\site-packages (from pandas>=1.2->seaborn) (2025.2)\n",
            "Requirement already satisfied: tzdata>=2022.1 in c:\\users\\msi\\appdata\\local\\programs\\python\\python310\\lib\\site-packages (from pandas>=1.2->seaborn) (2025.2)\n",
            "Requirement already satisfied: six>=1.5 in c:\\users\\msi\\appdata\\local\\programs\\python\\python310\\lib\\site-packages (from python-dateutil>=2.7->matplotlib) (1.17.0)\n",
            "Note: you may need to restart the kernel to use updated packages.\n"
          ]
        }
      ],
      "source": [
        "%pip install matplotlib seaborn\n",
        "\n",
        "import pandas as pd\n",
        "import numpy as np\n",
        "import matplotlib.pyplot as plt\n",
        "import seaborn as sns\n",
        "from pathlib import Path\n",
        "\n",
        "from sklearn.model_selection import train_test_split\n",
        "from sklearn.preprocessing import StandardScaler, LabelEncoder\n",
        "from sklearn.compose import ColumnTransformer\n",
        "from sklearn.pipeline import Pipeline\n",
        "from sklearn.impute import SimpleImputer\n",
        "from sklearn.linear_model import LogisticRegression\n",
        "from sklearn.ensemble import RandomForestClassifier, GradientBoostingClassifier\n",
        "from sklearn.metrics import accuracy_score, classification_report, confusion_matrix\n",
        "import joblib"
      ]
    },
    {
      "cell_type": "code",
      "execution_count": 34,
      "metadata": {
        "colab": {
          "base_uri": "https://localhost:8080/"
        },
        "id": "jQTfbxzncOIM",
        "outputId": "4f2db961-6bc2-4bdb-cced-d481f26ac9a0"
      },
      "outputs": [
        {
          "name": "stdout",
          "output_type": "stream",
          "text": [
            "Dataset shape: (12815, 20)\n",
            "     uid                 time    aqi            city_name        lat  \\\n",
            "0    428  2025-09-21 01:00:00  107.0        Osorno, Chile -40.584479   \n",
            "1   8821  2025-09-21 01:00:00   63.0       Mirasol, Chile -41.479507   \n",
            "2  14756  2025-09-21 02:00:00   46.0  Puerto Varas, Chile -41.328935   \n",
            "3    445  2025-09-21 02:00:00  152.0     Coyhaique, Chile -45.579964   \n",
            "4  10699  2025-09-21 01:00:00   38.0      Vialidad, Chile -45.406800   \n",
            "\n",
            "         lon   pm25  pm10  no2  so2  co  o3  temp_c  humidity_pct  \\\n",
            "0 -73.118720  107.0  37.0  NaN  NaN NaN NaN     8.7          93.8   \n",
            "1 -72.968756   63.0   NaN  NaN  NaN NaN NaN     8.0          93.0   \n",
            "2 -72.968209   46.0  12.0  NaN  NaN NaN NaN     8.0          93.0   \n",
            "3 -72.061126  152.0  46.0  NaN  NaN NaN NaN     6.0          87.0   \n",
            "4 -72.696260   38.0   NaN  NaN  NaN NaN NaN     6.0          93.0   \n",
            "\n",
            "   pressure_hpa  wind_speed_mps             aqi_category  month  season  \\\n",
            "0        1008.3             0.9  Unhealthy for Sensitive      9  Autumn   \n",
            "1        1013.0             1.0                 Moderate      9  Autumn   \n",
            "2        1013.0             1.0                     Good      9  Autumn   \n",
            "3        1008.0             7.2                Unhealthy      9  Autumn   \n",
            "4        1009.0             8.2                     Good      9  Autumn   \n",
            "\n",
            "  temp_condition  \n",
            "0           Cold  \n",
            "1           Cold  \n",
            "2           Cold  \n",
            "3           Cold  \n",
            "4           Cold  \n"
          ]
        }
      ],
      "source": [
        "df = pd.read_csv(\"waqi_global_dataset_with_categoricals.csv\")\n",
        "\n",
        "print(\"Dataset shape:\", df.shape)\n",
        "print(df.head())"
      ]
    },
    {
      "cell_type": "code",
      "execution_count": 35,
      "metadata": {},
      "outputs": [
        {
          "name": "stdout",
          "output_type": "stream",
          "text": [
            "                uid           aqi           lat           lon          pm25  \\\n",
            "count  12815.000000  12701.000000  12815.000000  12815.000000  11520.000000   \n",
            "mean    7357.636208     35.909220     34.194734     31.930015     34.837778   \n",
            "std     4245.991838     38.628758     20.609165     84.526243     32.296188   \n",
            "min        1.000000      0.000000    -53.158295   -161.767000      1.000000   \n",
            "25%     3781.500000     18.000000     31.319854     -5.726443     15.000000   \n",
            "50%     7119.000000     29.000000     38.454722     20.960068     25.000000   \n",
            "75%    10725.500000     45.000000     46.602340    114.906400     48.000000   \n",
            "max    14937.000000   2138.000000     69.656250    176.919127    832.000000   \n",
            "\n",
            "               pm10          no2          so2           co           o3  \\\n",
            "count  10660.000000  9953.000000  8198.000000  6592.000000  9131.000000   \n",
            "mean      19.447017     5.834268     3.043513     3.588557    20.915205   \n",
            "std       43.414633     6.727467     4.942867    12.075955    12.180188   \n",
            "min        1.000000     0.100000     0.000000     0.100000     0.100000   \n",
            "25%        8.000000     1.900000     1.100000     0.900000    12.100000   \n",
            "50%       13.000000     3.800000     2.100000     2.600000    20.800000   \n",
            "75%       22.000000     7.400000     3.600000     4.600000    28.100000   \n",
            "max     2138.000000   124.000000   216.600000   500.000000   184.100000   \n",
            "\n",
            "             temp_c  humidity_pct  pressure_hpa  wind_speed_mps         month  \n",
            "count  12397.000000  12320.000000  12180.000000    12076.000000  12815.000000  \n",
            "mean      19.284546     71.761147   1019.645917        2.899724      8.998908  \n",
            "std        7.576324     20.201817   1287.789921        3.091459      0.079988  \n",
            "min      -67.700000      0.340000     25.740000        0.010000      1.000000  \n",
            "25%       14.000000     60.000000   1006.900000        1.000000      9.000000  \n",
            "50%       19.400000     74.300000   1013.900000        2.020000      9.000000  \n",
            "75%       25.000000     88.000000   1018.600000        4.000000      9.000000  \n",
            "max       63.700000    355.600000  82978.000000       97.000000      9.000000  \n",
            "<class 'pandas.core.frame.DataFrame'>\n",
            "RangeIndex: 12815 entries, 0 to 12814\n",
            "Data columns (total 20 columns):\n",
            " #   Column          Non-Null Count  Dtype  \n",
            "---  ------          --------------  -----  \n",
            " 0   uid             12815 non-null  int64  \n",
            " 1   time            12815 non-null  object \n",
            " 2   aqi             12701 non-null  float64\n",
            " 3   city_name       12815 non-null  object \n",
            " 4   lat             12815 non-null  float64\n",
            " 5   lon             12815 non-null  float64\n",
            " 6   pm25            11520 non-null  float64\n",
            " 7   pm10            10660 non-null  float64\n",
            " 8   no2             9953 non-null   float64\n",
            " 9   so2             8198 non-null   float64\n",
            " 10  co              6592 non-null   float64\n",
            " 11  o3              9131 non-null   float64\n",
            " 12  temp_c          12397 non-null  float64\n",
            " 13  humidity_pct    12320 non-null  float64\n",
            " 14  pressure_hpa    12180 non-null  float64\n",
            " 15  wind_speed_mps  12076 non-null  float64\n",
            " 16  aqi_category    12815 non-null  object \n",
            " 17  month           12815 non-null  int64  \n",
            " 18  season          12815 non-null  object \n",
            " 19  temp_condition  12815 non-null  object \n",
            "dtypes: float64(13), int64(2), object(5)\n",
            "memory usage: 2.0+ MB\n",
            "None\n"
          ]
        }
      ],
      "source": [
        "describe = df.describe()\n",
        "print(describe)\n",
        "info = df.info()\n",
        "print(info)"
      ]
    },
    {
      "cell_type": "code",
      "execution_count": 36,
      "metadata": {},
      "outputs": [
        {
          "name": "stdout",
          "output_type": "stream",
          "text": [
            "Removed 0 duplicate rows\n"
          ]
        }
      ],
      "source": [
        "before = df.shape[0]\n",
        "df = df.drop_duplicates()\n",
        "print(f\"Removed {before - df.shape[0]} duplicate rows\")"
      ]
    },
    {
      "cell_type": "code",
      "execution_count": 37,
      "metadata": {
        "id": "xHAdCHIXcSmG"
      },
      "outputs": [],
      "source": [
        "target = \"aqi_category\"\n",
        "X = df.drop(columns=[target])\n",
        "y = df[target]"
      ]
    },
    {
      "cell_type": "code",
      "execution_count": 38,
      "metadata": {},
      "outputs": [],
      "source": [
        "# Separate numeric & categorical\n",
        "num_features = X.select_dtypes(include=[np.number]).columns.tolist()\n",
        "cat_features = X.select_dtypes(include=[\"object\"]).columns.tolist()"
      ]
    },
    {
      "cell_type": "code",
      "execution_count": 39,
      "metadata": {
        "id": "_EhrL0H7cZQn"
      },
      "outputs": [],
      "source": [
        "# Force numeric conversion (turn invalid strings → NaN)\n",
        "for c in num_features:\n",
        "    X[c] = pd.to_numeric(X[c], errors=\"coerce\")\n"
      ]
    },
    {
      "cell_type": "code",
      "execution_count": 40,
      "metadata": {},
      "outputs": [
        {
          "name": "stdout",
          "output_type": "stream",
          "text": [
            "Missing values per feature BEFORE filling:\n",
            "Numerical Features:\n",
            "  aqi: 114 missing values (0.89%)\n",
            "  pm25: 1295 missing values (10.11%)\n",
            "  pm10: 2155 missing values (16.82%)\n",
            "  no2: 2862 missing values (22.33%)\n",
            "  so2: 4617 missing values (36.03%)\n",
            "  co: 6223 missing values (48.56%)\n",
            "  o3: 3684 missing values (28.75%)\n",
            "  temp_c: 418 missing values (3.26%)\n",
            "  humidity_pct: 495 missing values (3.86%)\n",
            "  pressure_hpa: 635 missing values (4.96%)\n",
            "  wind_speed_mps: 739 missing values (5.77%)\n",
            "\n",
            "Categorical Features:\n",
            "\n",
            "Target variable ('aqi_category') missing values: 0 (0.00%)\n",
            "\n",
            "==================================================\n"
          ]
        }
      ],
      "source": [
        "# Print missing values per feature BEFORE filling\n",
        "print(\"Missing values per feature BEFORE filling:\")\n",
        "print(\"Numerical Features:\")\n",
        "for c in num_features:\n",
        "    missing_count = X[c].isna().sum()\n",
        "    if missing_count > 0:\n",
        "        print(f\"  {c}: {missing_count} missing values ({missing_count/len(X)*100:.2f}%)\")\n",
        "\n",
        "print(\"\\nCategorical Features:\")\n",
        "for c in cat_features:\n",
        "    missing_count = X[c].isna().sum()\n",
        "    if missing_count > 0:\n",
        "        print(f\"  {c}: {missing_count} missing values ({missing_count/len(X)*100:.2f}%)\")\n",
        "\n",
        "# Check target variable missing values\n",
        "target_missing = y.isna().sum()\n",
        "print(f\"\\nTarget variable ('{target}') missing values: {target_missing} ({target_missing/len(y)*100:.2f}%)\")\n",
        "\n",
        "print(\"\\n\" + \"=\"*50)"
      ]
    },
    {
      "cell_type": "code",
      "execution_count": 41,
      "metadata": {
        "colab": {
          "base_uri": "https://localhost:8080/"
        },
        "id": "rFI4axq4cbi1",
        "outputId": "9b7bd61b-d4c0-4343-e80d-e9994f62bd11"
      },
      "outputs": [
        {
          "name": "stdout",
          "output_type": "stream",
          "text": [
            "Dropped 0 rows with missing target values\n",
            "Dataset size: 12815 → 12815 rows\n"
          ]
        }
      ],
      "source": [
        "# Fill numeric NaNs with mean\n",
        "for c in num_features:\n",
        "    X[c] = X[c].fillna(X[c].mean())\n",
        "\n",
        "# Fill categorical NaNs with mode\n",
        "for c in cat_features:\n",
        "    X[c] = X[c].fillna(X[c].mode()[0])\n",
        "\n",
        "before_count = len(y)\n",
        "\n",
        "# Drop rows with missing target\n",
        "mask = y.notna()\n",
        "X, y = X[mask], y[mask]\n",
        "\n",
        "# Calculate and print drop count\n",
        "after_count = len(y)\n",
        "dropped_count = before_count - after_count\n",
        "print(f\"Dropped {dropped_count} rows with missing target values\")\n",
        "print(f\"Dataset size: {before_count} → {after_count} rows\")"
      ]
    },
    {
      "cell_type": "code",
      "execution_count": null,
      "metadata": {
        "colab": {
          "base_uri": "https://localhost:8080/"
        },
        "id": "UcRBH1RcccYp",
        "outputId": "611f4767-69af-4c37-df18-c74d560a7bce"
      },
      "outputs": [
        {
          "name": "stdout",
          "output_type": "stream",
          "text": [
            "Outlier removal summary:\n",
            "  aqi: 607 outliers found\n",
            "  lat: 1105 outliers found\n",
            "  pm25: 600 outliers found\n",
            "  pm10: 1200 outliers found\n",
            "  no2: 1189 outliers found\n",
            "  so2: 837 outliers found\n",
            "  co: 3032 outliers found\n",
            "  o3: 834 outliers found\n",
            "  temp_c: 70 outliers found\n",
            "  humidity_pct: 242 outliers found\n",
            "  pressure_hpa: 1498 outliers found\n",
            "  wind_speed_mps: 498 outliers found\n",
            "  month: 3 outliers found\n",
            "\n",
            "Total rows removed due to outliers: 6653\n",
            "Dataset size: 12815 → 6162 rows\n"
          ]
        }
      ],
      "source": [
        "def remove_outliers(s, k=1.5):\n",
        "    q1, q3 = s.quantile([0.25, 0.75])\n",
        "    iqr = q3 - q1\n",
        "    lower, upper = q1 - k*iqr, q3 + k*iqr\n",
        "    \n",
        "    # Create boolean mask for non-outliers\n",
        "    non_outlier_mask = (s >= lower) & (s <= upper)\n",
        "    \n",
        "    return non_outlier_mask\n",
        "\n",
        "print(\"Outlier removal summary:\")\n",
        "total_rows_before = len(X)\n",
        "\n",
        "# Apply outlier removal to each numerical column\n",
        "outlier_mask = pd.Series([True] * len(X)) \n",
        "for c in num_features:\n",
        "    col_mask = remove_outliers(X[c])\n",
        "    outlier_count = (~col_mask).sum()  \n",
        "    if outlier_count > 0:\n",
        "        print(f\"  {c}: {outlier_count} outliers found\")\n",
        "    outlier_mask = outlier_mask & col_mask  \n",
        "\n",
        "# Actually remove the rows with outliers\n",
        "X = X[outlier_mask]\n",
        "y = y[outlier_mask]\n",
        "\n",
        "rows_removed = total_rows_before - len(X)\n",
        "print(f\"\\nTotal rows removed due to outliers: {rows_removed}\")\n",
        "print(f\"Dataset size: {total_rows_before} → {len(X)} rows\")"
      ]
    },
    {
      "cell_type": "code",
      "execution_count": 43,
      "metadata": {},
      "outputs": [],
      "source": [
        "# --------------------------\n",
        "# 5) Encode categorical vars\n",
        "# --------------------------\n",
        "le_dict = {}\n",
        "for c in cat_features:\n",
        "    le = LabelEncoder()\n",
        "    X[c] = le.fit_transform(X[c])\n",
        "    le_dict[c] = le\n",
        "\n",
        "# Encode target\n",
        "le_target = LabelEncoder()\n",
        "y_enc = le_target.fit_transform(y)"
      ]
    },
    {
      "cell_type": "code",
      "execution_count": 44,
      "metadata": {},
      "outputs": [
        {
          "name": "stdout",
          "output_type": "stream",
          "text": [
            "\n",
            "=== Correlation of Features vs Target (Encoded AQI) ===\n",
            "aqi               0.579394\n",
            "pm25              0.528211\n",
            "pm10              0.273754\n",
            "no2               0.126086\n",
            "temp_c            0.103314\n",
            "co                0.089811\n",
            "so2               0.053828\n",
            "humidity_pct      0.021818\n",
            "city_name         0.009354\n",
            "uid               0.005185\n",
            "o3               -0.011633\n",
            "lon              -0.016971\n",
            "temp_condition   -0.024447\n",
            "wind_speed_mps   -0.034791\n",
            "time             -0.058986\n",
            "pressure_hpa     -0.080295\n",
            "lat              -0.114675\n",
            "month                  NaN\n",
            "season                 NaN\n",
            "dtype: float64\n"
          ]
        },
        {
          "name": "stderr",
          "output_type": "stream",
          "text": [
            "c:\\Users\\MSI\\AppData\\Local\\Programs\\Python\\Python310\\lib\\site-packages\\numpy\\lib\\function_base.py:2897: RuntimeWarning: invalid value encountered in divide\n",
            "  c /= stddev[:, None]\n",
            "c:\\Users\\MSI\\AppData\\Local\\Programs\\Python\\Python310\\lib\\site-packages\\numpy\\lib\\function_base.py:2898: RuntimeWarning: invalid value encountered in divide\n",
            "  c /= stddev[None, :]\n"
          ]
        }
      ],
      "source": [
        "# --------------------------\n",
        "# 6) Feature–target correlation\n",
        "# --------------------------\n",
        "corrs = {}\n",
        "for c in X.columns:\n",
        "    corrs[c] = np.corrcoef(X[c], y_enc)[0, 1]\n",
        "corrs = pd.Series(corrs).sort_values(ascending=False)\n",
        "print(\"\\n=== Correlation of Features vs Target (Encoded AQI) ===\")\n",
        "print(corrs)"
      ]
    },
    {
      "cell_type": "code",
      "execution_count": 45,
      "metadata": {},
      "outputs": [
        {
          "name": "stdout",
          "output_type": "stream",
          "text": [
            "\n",
            "=== Feature Importance (RF + GB aggregated) ===\n",
            "                RandomForest  GradientBoosting      Mean\n",
            "aqi                 0.476329      9.988953e-01  0.737612\n",
            "pm25                0.376851      0.000000e+00  0.188426\n",
            "pm10                0.036631      5.446030e-18  0.018316\n",
            "lat                 0.018173      1.394512e-16  0.009087\n",
            "lon                 0.014862      3.624400e-15  0.007431\n",
            "time                0.009950      7.807676e-04  0.005366\n",
            "temp_c              0.008805      2.454953e-14  0.004403\n",
            "city_name           0.007658      6.853947e-15  0.003829\n",
            "pressure_hpa        0.007567      2.567645e-16  0.003784\n",
            "no2                 0.007488      3.018919e-16  0.003744\n",
            "uid                 0.007051      3.239457e-04  0.003687\n",
            "co                  0.007135      0.000000e+00  0.003567\n",
            "o3                  0.006670     -1.329274e-17  0.003335\n",
            "so2                 0.004757      0.000000e+00  0.002379\n",
            "humidity_pct        0.004490      6.955132e-16  0.002245\n",
            "wind_speed_mps      0.004145      3.906899e-16  0.002072\n",
            "temp_condition      0.001438      0.000000e+00  0.000719\n",
            "month               0.000000      0.000000e+00  0.000000\n",
            "season              0.000000      0.000000e+00  0.000000\n",
            "\n",
            "Selected Best Features: ['pm25', 'pm10', 'lat', 'lon', 'time', 'temp_c', 'city_name']\n"
          ]
        }
      ],
      "source": [
        "# --------------------------\n",
        "# 7) Feature importance (Ensemble-based)\n",
        "# --------------------------\n",
        "rf = RandomForestClassifier(n_estimators=200, random_state=42)\n",
        "rf.fit(X, y_enc)\n",
        "rf_importances = pd.Series(rf.feature_importances_, index=X.columns)\n",
        "\n",
        "gb = GradientBoostingClassifier(random_state=42)\n",
        "gb.fit(X, y_enc)\n",
        "gb_importances = pd.Series(gb.feature_importances_, index=X.columns)\n",
        "\n",
        "feature_importance = pd.DataFrame({\n",
        "    \"RandomForest\": rf_importances,\n",
        "    \"GradientBoosting\": gb_importances\n",
        "})\n",
        "feature_importance[\"Mean\"] = feature_importance.mean(axis=1)\n",
        "feature_importance = feature_importance.sort_values(\"Mean\", ascending=False)\n",
        "\n",
        "print(\"\\n=== Feature Importance (RF + GB aggregated) ===\")\n",
        "print(feature_importance)\n",
        "\n",
        "# Select top features (ensemble-based selection)\n",
        "top_features = feature_importance.index[1:8].tolist()\n",
        "print(\"\\nSelected Best Features:\", top_features)\n",
        "\n",
        "X_selected = X[top_features]\n"
      ]
    },
    {
      "cell_type": "code",
      "execution_count": 46,
      "metadata": {
        "id": "wnk9ajl9csu9"
      },
      "outputs": [],
      "source": [
        "# --------------------------\n",
        "# 8) Train-Test Split\n",
        "# --------------------------\n",
        "X_train, X_test, y_train, y_test = train_test_split(\n",
        "    X_selected, y_enc, test_size=0.2, random_state=42, stratify=y_enc\n",
        ")\n",
        "\n"
      ]
    },
    {
      "cell_type": "code",
      "execution_count": 47,
      "metadata": {
        "id": "PzlQgcKpcyyR"
      },
      "outputs": [],
      "source": [
        "# --------------------------\n",
        "# 9) Preprocessor (numeric pipeline only)\n",
        "# --------------------------\n",
        "preprocessor = ColumnTransformer(\n",
        "    transformers=[\n",
        "        (\"num\", Pipeline(steps=[\n",
        "            (\"imputer\", SimpleImputer(strategy=\"mean\")),\n",
        "            (\"scaler\", StandardScaler())\n",
        "        ]), top_features)\n",
        "    ]\n",
        ")"
      ]
    },
    {
      "cell_type": "code",
      "execution_count": 48,
      "metadata": {
        "colab": {
          "base_uri": "https://localhost:8080/",
          "height": 614
        },
        "id": "jZ-tThxfc5fJ",
        "outputId": "f767a08d-62a5-489f-b6b7-910fd2ca3106"
      },
      "outputs": [
        {
          "name": "stdout",
          "output_type": "stream",
          "text": [
            "\n",
            "=== Logistic Regression ===\n",
            "Accuracy: 0.9805\n",
            "              precision    recall  f1-score   support\n",
            "\n",
            "        Good       0.99      0.99      0.99      1140\n",
            "    Moderate       0.91      0.93      0.92        83\n",
            "     Unknown       0.00      0.00      0.00        10\n",
            "\n",
            "    accuracy                           0.98      1233\n",
            "   macro avg       0.63      0.64      0.64      1233\n",
            "weighted avg       0.97      0.98      0.98      1233\n",
            "\n"
          ]
        },
        {
          "name": "stderr",
          "output_type": "stream",
          "text": [
            "c:\\Users\\MSI\\AppData\\Local\\Programs\\Python\\Python310\\lib\\site-packages\\sklearn\\metrics\\_classification.py:1731: UndefinedMetricWarning: Precision is ill-defined and being set to 0.0 in labels with no predicted samples. Use `zero_division` parameter to control this behavior.\n",
            "  _warn_prf(average, modifier, f\"{metric.capitalize()} is\", result.shape[0])\n",
            "c:\\Users\\MSI\\AppData\\Local\\Programs\\Python\\Python310\\lib\\site-packages\\sklearn\\metrics\\_classification.py:1731: UndefinedMetricWarning: Precision is ill-defined and being set to 0.0 in labels with no predicted samples. Use `zero_division` parameter to control this behavior.\n",
            "  _warn_prf(average, modifier, f\"{metric.capitalize()} is\", result.shape[0])\n",
            "c:\\Users\\MSI\\AppData\\Local\\Programs\\Python\\Python310\\lib\\site-packages\\sklearn\\metrics\\_classification.py:1731: UndefinedMetricWarning: Precision is ill-defined and being set to 0.0 in labels with no predicted samples. Use `zero_division` parameter to control this behavior.\n",
            "  _warn_prf(average, modifier, f\"{metric.capitalize()} is\", result.shape[0])\n"
          ]
        },
        {
          "data": {
            "image/png": "[encoded data removed]",
            "text/plain": [
              "<Figure size 600x400 with 2 Axes>"
            ]
          },
          "metadata": {},
          "output_type": "display_data"
        },
        {
          "name": "stdout",
          "output_type": "stream",
          "text": [
            "\n",
            "=== Random Forest ===\n",
            "Accuracy: 0.9903\n",
            "              precision    recall  f1-score   support\n",
            "\n",
            "        Good       0.99      1.00      0.99      1140\n",
            "    Moderate       0.97      1.00      0.98        83\n",
            "     Unknown       1.00      0.10      0.18        10\n",
            "\n",
            "    accuracy                           0.99      1233\n",
            "   macro avg       0.99      0.70      0.72      1233\n",
            "weighted avg       0.99      0.99      0.99      1233\n",
            "\n"
          ]
        },
        {
          "data": {
            "image/png": "[encoded data removed]",
            "text/plain": [
              "<Figure size 600x400 with 2 Axes>"
            ]
          },
          "metadata": {},
          "output_type": "display_data"
        },
        {
          "name": "stdout",
          "output_type": "stream",
          "text": [
            "\n",
            "=== Gradient Boosting ===\n",
            "Accuracy: 0.9895\n",
            "              precision    recall  f1-score   support\n",
            "\n",
            "        Good       0.99      0.99      0.99      1140\n",
            "    Moderate       0.98      1.00      0.99        83\n",
            "     Unknown       0.43      0.30      0.35        10\n",
            "\n",
            "    accuracy                           0.99      1233\n",
            "   macro avg       0.80      0.76      0.78      1233\n",
            "weighted avg       0.99      0.99      0.99      1233\n",
            "\n"
          ]
        },
        {
          "data": {
            "image/png": "[encoded data removed]",
            "text/plain": [
              "<Figure size 600x400 with 2 Axes>"
            ]
          },
          "metadata": {},
          "output_type": "display_data"
        }
      ],
      "source": [
        "# --------------------------\n",
        "# 10) Train & Evaluate Models\n",
        "# --------------------------\n",
        "def train_and_evaluate(model, model_name):\n",
        "    clf = Pipeline(steps=[\n",
        "        (\"preprocessor\", preprocessor),\n",
        "        (\"model\", model)\n",
        "    ])\n",
        "    clf.fit(X_train, y_train)\n",
        "    y_pred = clf.predict(X_test)\n",
        "\n",
        "    acc = accuracy_score(y_test, y_pred)\n",
        "    print(f\"\\n=== {model_name} ===\")\n",
        "    print(\"Accuracy:\", round(acc, 4))\n",
        "    print(classification_report(y_test, y_pred, target_names=le_target.classes_))\n",
        "\n",
        "    cm = confusion_matrix(y_test, y_pred)\n",
        "    plt.figure(figsize=(6,4))\n",
        "    sns.heatmap(cm, annot=True, fmt=\"d\", cmap=\"Blues\",\n",
        "                xticklabels=le_target.classes_,\n",
        "                yticklabels=le_target.classes_)\n",
        "    plt.title(f\"Confusion Matrix - {model_name}\")\n",
        "    plt.xlabel(\"Predicted\")\n",
        "    plt.ylabel(\"True\")\n",
        "    plt.show()\n",
        "\n",
        "\n",
        "\n",
        "    # Run models\n",
        "train_and_evaluate(LogisticRegression(max_iter=1000), \"Logistic Regression\")\n",
        "train_and_evaluate(RandomForestClassifier(n_estimators=200, random_state=42), \"Random Forest\")\n",
        "train_and_evaluate(GradientBoostingClassifier(random_state=42), \"Gradient Boosting\")"
      ]
    },
    {
      "cell_type": "code",
      "execution_count": 49,
      "metadata": {
        "colab": {
          "base_uri": "https://localhost:8080/"
        },
        "id": "vbcYlo4Xc96G",
        "outputId": "3fa202a2-4e62-416f-f90c-e55030a9cb3c"
      },
      "outputs": [
        {
          "name": "stdout",
          "output_type": "stream",
          "text": [
            "✅ Final model & encoder saved successfully!\n"
          ]
        }
      ],
      "source": [
        "# --------------------------\n",
        "# 11) Save Final Model\n",
        "# --------------------------\n",
        "final_model = Pipeline(steps=[\n",
        "    (\"preprocessor\", preprocessor),\n",
        "    (\"model\", LogisticRegression(max_iter=1000))\n",
        "])\n",
        "\n",
        "final_model.fit(X_train, y_train)\n",
        "\n",
        "joblib.dump(final_model, \"aqi_predictor_with_pm.pkl\")\n",
        "joblib.dump(le_target, \"label_encoder.pkl\")\n",
        "\n",
        "print(\"✅ Final model & encoder saved successfully!\")"
      ]
    },
    {
      "cell_type": "code",
      "execution_count": null,
      "metadata": {},
      "outputs": [],
      "source": []
    }
  ],
  "metadata": {
    "colab": {
      "provenance": []
    },
    "kernelspec": {
      "display_name": "Python 3",
      "name": "python3"
    },
    "language_info": {
      "codemirror_mode": {
        "name": "ipython",
        "version": 3
      },
      "file_extension": ".py",
      "mimetype": "text/x-python",
      "name": "python",
      "nbconvert_exporter": "python",
      "pygments_lexer": "ipython3",
      "version": "3.10.11"
    }
  },
  "nbformat": 4,
  "nbformat_minor": 0
}
